{
 "cells": [
  {
   "cell_type": "code",
   "execution_count": 1,
   "metadata": {},
   "outputs": [],
   "source": [
    "# !pip install viztracer\n",
    "%load_ext viztracer"
   ]
  },
  {
   "cell_type": "code",
   "execution_count": 3,
   "metadata": {},
   "outputs": [],
   "source": [
    "def for_loop(n: int) -> int:\n",
    "    \"\"\"for loop\"\"\"\n",
    "    res = 0\n",
    "    # Loop sum 1, 2, ..., n-1, n\n",
    "    for i in range(1, n + 1):\n",
    "        res += i\n",
    "    return res\n",
    "\n",
    "def recur(n: int) -> int:\n",
    "    \"\"\"Recursion\"\"\"\n",
    "    # Termination condition\n",
    "    if n == 1:\n",
    "        return 1\n",
    "    # Recursive: recursive call\n",
    "    res = recur(n - 1)\n",
    "    # Return: return result\n",
    "    return n + res"
   ]
  },
  {
   "cell_type": "code",
   "execution_count": 4,
   "metadata": {},
   "outputs": [
    {
     "data": {
      "application/vnd.jupyter.widget-view+json": {
       "model_id": "f68b0ada0722488a87e34506c09cf501",
       "version_major": 2,
       "version_minor": 0
      },
      "text/plain": [
       "Button(description='VizTracer Report', style=ButtonStyle())"
      ]
     },
     "metadata": {},
     "output_type": "display_data"
    }
   ],
   "source": [
    "%%viztracer\n",
    "for_loop(10)\n",
    "recur(10)"
   ]
  },
  {
   "cell_type": "code",
   "execution_count": 5,
   "metadata": {},
   "outputs": [],
   "source": [
    "def fib(n):\n",
    "    if n < 2:\n",
    "        return 1\n",
    "    return fib(n-1) + fib(n-2)"
   ]
  },
  {
   "cell_type": "code",
   "execution_count": 6,
   "metadata": {},
   "outputs": [
    {
     "data": {
      "application/vnd.jupyter.widget-view+json": {
       "model_id": "31e71742a3d14966af041061ac843677",
       "version_major": 2,
       "version_minor": 0
      },
      "text/plain": [
       "Button(description='VizTracer Report', style=ButtonStyle())"
      ]
     },
     "metadata": {},
     "output_type": "display_data"
    }
   ],
   "source": [
    "%%viztracer\n",
    "fib(10)"
   ]
  },
  {
   "cell_type": "code",
   "execution_count": 8,
   "metadata": {},
   "outputs": [],
   "source": [
    "# Exponential complexity\n",
    "def exp_recur(n: int) -> int:\n",
    "    \"\"\"Exponential complexity (recursive implementation)\"\"\"\n",
    "    if n == 1:\n",
    "        return 1\n",
    "    return exp_recur(n - 1) + exp_recur(n - 1) + 1"
   ]
  },
  {
   "cell_type": "code",
   "execution_count": 9,
   "metadata": {},
   "outputs": [
    {
     "name": "stdout",
     "output_type": "stream",
     "text": [
      "1023\n"
     ]
    },
    {
     "data": {
      "application/vnd.jupyter.widget-view+json": {
       "model_id": "cd8e3961de4d47a4bc7de2124b2aa34b",
       "version_major": 2,
       "version_minor": 0
      },
      "text/plain": [
       "Button(description='VizTracer Report', style=ButtonStyle())"
      ]
     },
     "metadata": {},
     "output_type": "display_data"
    },
    {
     "name": "stdout",
     "output_type": "stream",
     "text": [
      "Error! Port 9001 is already in use, try another port with \"--port\"\n"
     ]
    }
   ],
   "source": [
    "%%viztracer\n",
    "ans = exp_recur(10)\n",
    "print(ans)"
   ]
  },
  {
   "cell_type": "code",
   "execution_count": 17,
   "metadata": {},
   "outputs": [],
   "source": [
    "# Logarithmic complexity\n",
    "def log_recur(n: int) -> int:\n",
    "    \"\"\"Exponential complexity (recursive implementation)\"\"\"\n",
    "    if n <= 1:\n",
    "        return 1\n",
    "    return log_recur(n//2) + 1"
   ]
  },
  {
   "cell_type": "code",
   "execution_count": 19,
   "metadata": {},
   "outputs": [
    {
     "name": "stdout",
     "output_type": "stream",
     "text": [
      "4\n"
     ]
    },
    {
     "data": {
      "application/vnd.jupyter.widget-view+json": {
       "model_id": "08fe35ac195541d1b01f7929807dcdce",
       "version_major": 2,
       "version_minor": 0
      },
      "text/plain": [
       "Button(description='VizTracer Report', style=ButtonStyle())"
      ]
     },
     "metadata": {},
     "output_type": "display_data"
    }
   ],
   "source": [
    "%%viztracer\n",
    "ans = log_recur(10)\n",
    "print(ans)"
   ]
  },
  {
   "cell_type": "code",
   "execution_count": 21,
   "metadata": {},
   "outputs": [],
   "source": [
    "# Linear Logarithmic complexity\n",
    "def linear_log_recur(n: int) -> int:\n",
    "    \"\"\"Linear logarithmic complexity\"\"\"\n",
    "    if n <= 1:\n",
    "        return 1\n",
    "    count: int = linear_log_recur(n // 2) + linear_log_recur(n // 2)\n",
    "    for _ in range(n):\n",
    "        count += 1\n",
    "    return count"
   ]
  },
  {
   "cell_type": "code",
   "execution_count": 22,
   "metadata": {},
   "outputs": [
    {
     "name": "stdout",
     "output_type": "stream",
     "text": [
      "36\n"
     ]
    },
    {
     "data": {
      "application/vnd.jupyter.widget-view+json": {
       "model_id": "f64fc8c5cdcb4c03ad608da49e2318be",
       "version_major": 2,
       "version_minor": 0
      },
      "text/plain": [
       "Button(description='VizTracer Report', style=ButtonStyle())"
      ]
     },
     "metadata": {},
     "output_type": "display_data"
    }
   ],
   "source": [
    "%%viztracer\n",
    "ans = linear_log_recur(10)\n",
    "print(ans)"
   ]
  },
  {
   "cell_type": "code",
   "execution_count": 10,
   "metadata": {},
   "outputs": [],
   "source": [
    "def factorial_recur(n: int) -> int:\n",
    "    \"\"\"Factorial complexity (recursive implementation)\"\"\"\n",
    "    if n == 0:\n",
    "        return 1\n",
    "    count = 0\n",
    "    # From 1 split into n\n",
    "    for _ in range(n):\n",
    "        count += factorial_recur(n - 1)\n",
    "    return count"
   ]
  },
  {
   "cell_type": "code",
   "execution_count": 11,
   "metadata": {},
   "outputs": [
    {
     "name": "stdout",
     "output_type": "stream",
     "text": [
      "120\n"
     ]
    },
    {
     "data": {
      "application/vnd.jupyter.widget-view+json": {
       "model_id": "b6728fa15d4042fa85ed805a1cb72c63",
       "version_major": 2,
       "version_minor": 0
      },
      "text/plain": [
       "Button(description='VizTracer Report', style=ButtonStyle())"
      ]
     },
     "metadata": {},
     "output_type": "display_data"
    }
   ],
   "source": [
    "%%viztracer\n",
    "ans = factorial_recur(5)\n",
    "print(ans)"
   ]
  }
 ],
 "metadata": {
  "kernelspec": {
   "display_name": "base",
   "language": "python",
   "name": "python3"
  },
  "language_info": {
   "codemirror_mode": {
    "name": "ipython",
    "version": 3
   },
   "file_extension": ".py",
   "mimetype": "text/x-python",
   "name": "python",
   "nbconvert_exporter": "python",
   "pygments_lexer": "ipython3",
   "version": "3.12.7"
  }
 },
 "nbformat": 4,
 "nbformat_minor": 2
}
